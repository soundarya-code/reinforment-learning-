{
 "cells": [
  {
   "cell_type": "code",
   "execution_count": 1,
   "id": "425e5d35",
   "metadata": {},
   "outputs": [
    {
     "name": "stdout",
     "output_type": "stream",
     "text": [
      "Requirement already satisfied: torch in g:\\img_dect\\tfod1\\lib\\site-packages (1.10.1)\n",
      "Requirement already satisfied: torchvision in g:\\img_dect\\tfod1\\lib\\site-packages (0.11.2)\n",
      "Requirement already satisfied: torchaudio in g:\\img_dect\\tfod1\\lib\\site-packages (0.10.1)\n",
      "Requirement already satisfied: typing-extensions in g:\\img_dect\\tfod1\\lib\\site-packages (from torch) (3.7.4.3)\n",
      "Requirement already satisfied: numpy in g:\\img_dect\\tfod1\\lib\\site-packages (from torchvision) (1.19.5)\n",
      "Requirement already satisfied: pillow!=8.3.0,>=5.3.0 in g:\\img_dect\\tfod1\\lib\\site-packages (from torchvision) (8.4.0)\n"
     ]
    }
   ],
   "source": [
    "!pip install torch torchvision torchaudio"
   ]
  },
  {
   "cell_type": "code",
   "execution_count": 2,
   "id": "78471885",
   "metadata": {},
   "outputs": [
    {
     "name": "stderr",
     "output_type": "stream",
     "text": [
      "G:\\img_dect\\tfod1\\lib\\site-packages\\setuptools\\distutils_patch.py:25: UserWarning: Distutils was imported before Setuptools. This usage is discouraged and may exhibit undesirable behaviors or errors. Please use Setuptools' objects directly or at least import Setuptools first.\n",
      "  warnings.warn(\n"
     ]
    }
   ],
   "source": [
    "import os\n",
    "from stable_baselines3 import A2C\n",
    "from stable_baselines3.common.vec_env import VecFrameStack\n",
    "from stable_baselines3.common.evaluation import evaluate_policy\n",
    "from stable_baselines3.common.env_util import make_atari_env"
   ]
  },
  {
   "cell_type": "code",
   "execution_count": 3,
   "id": "4db10985",
   "metadata": {},
   "outputs": [],
   "source": [
    "import gym"
   ]
  },
  {
   "cell_type": "code",
   "execution_count": 4,
   "id": "6100426d",
   "metadata": {},
   "outputs": [
    {
     "name": "stdout",
     "output_type": "stream",
     "text": [
      "copying adventure.bin from .\\ROMS\\ROMS\\Adventure (1980) (Atari, Warren Robinett) (CX2613, CX2613P) (PAL).bin to G:\\img_dect\\tfod1\\lib\\site-packages\\atari_py\\atari_roms\\adventure.bin\n",
      "copying air_raid.bin from .\\ROMS\\ROMS\\Air Raid (Men-A-Vision) (PAL) ~.bin to G:\\img_dect\\tfod1\\lib\\site-packages\\atari_py\\atari_roms\\air_raid.bin\n",
      "copying alien.bin from .\\ROMS\\ROMS\\Alien (1982) (20th Century Fox Video Games, Douglas 'Dallas North' Neubauer) (11006) ~.bin to G:\\img_dect\\tfod1\\lib\\site-packages\\atari_py\\atari_roms\\alien.bin\n",
      "copying amidar.bin from .\\ROMS\\ROMS\\Amidar (1982) (Parker Brothers, Ed Temple) (PB5310) ~.bin to G:\\img_dect\\tfod1\\lib\\site-packages\\atari_py\\atari_roms\\amidar.bin\n",
      "copying assault.bin from .\\ROMS\\ROMS\\Assault (AKA Sky Alien) (1983) (Bomb - Onbase) (CA281).bin to G:\\img_dect\\tfod1\\lib\\site-packages\\atari_py\\atari_roms\\assault.bin\n",
      "copying asterix.bin from .\\ROMS\\ROMS\\Asterix (AKA Taz) (07-27-1983) (Atari, Jerome Domurat, Steve Woita) (CX2696) (Prototype).bin to G:\\img_dect\\tfod1\\lib\\site-packages\\atari_py\\atari_roms\\asterix.bin\n",
      "copying asteroids.bin from .\\ROMS\\ROMS\\Asteroids (1981) (Atari, Brad Stewart - Sears) (CX2649 - 49-75163) [no copyright] ~.bin to G:\\img_dect\\tfod1\\lib\\site-packages\\atari_py\\atari_roms\\asteroids.bin\n",
      "copying atlantis.bin from .\\ROMS\\ROMS\\Atlantis (Lost City of Atlantis) (1982) (Imagic, Dennis Koble) (720103-1A, 720103-1B, IA3203, IX-010-04) ~.bin to G:\\img_dect\\tfod1\\lib\\site-packages\\atari_py\\atari_roms\\atlantis.bin\n",
      "copying bank_heist.bin from .\\ROMS\\ROMS\\Bank Heist (Bonnie & Clyde, Cops 'n' Robbers, Hold-Up, Roaring 20's) (1983) (20th Century Fox Video Games, Bill Aspromonte) (11012) ~.bin to G:\\img_dect\\tfod1\\lib\\site-packages\\atari_py\\atari_roms\\bank_heist.bin\n",
      "copying battle_zone.bin from .\\ROMS\\ROMS\\Battlezone (1983) (Atari - GCC, Mike Feinstein, Brad Rice) (CX2681) ~.bin to G:\\img_dect\\tfod1\\lib\\site-packages\\atari_py\\atari_roms\\battle_zone.bin\n",
      "copying beam_rider.bin from .\\ROMS\\ROMS\\Beamrider (1984) (Activision - Cheshire Engineering, David Rolfe, Larry Zwick) (AZ-037-04) ~.bin to G:\\img_dect\\tfod1\\lib\\site-packages\\atari_py\\atari_roms\\beam_rider.bin\n",
      "copying berzerk.bin from .\\ROMS\\ROMS\\Berzerk (1982) (Atari, Dan Hitchens - Sears) (CX2650 - 49-75168) ~.bin to G:\\img_dect\\tfod1\\lib\\site-packages\\atari_py\\atari_roms\\berzerk.bin\n",
      "copying bowling.bin from .\\ROMS\\ROMS\\Bowling (1979) (Atari, Larry Kaplan - Sears) (CX2628 - 6-99842, 49-75117) ~.bin to G:\\img_dect\\tfod1\\lib\\site-packages\\atari_py\\atari_roms\\bowling.bin\n",
      "copying boxing.bin from .\\ROMS\\ROMS\\Boxing - La Boxe (1980) (Activision, Bob Whitehead) (AG-002, CAG-002, AG-002-04) ~.bin to G:\\img_dect\\tfod1\\lib\\site-packages\\atari_py\\atari_roms\\boxing.bin\n",
      "copying breakout.bin from .\\ROMS\\ROMS\\Breakout - Breakaway IV (Paddle) (1978) (Atari, Brad Stewart - Sears) (CX2622 - 6-99813, 49-75107) ~.bin to G:\\img_dect\\tfod1\\lib\\site-packages\\atari_py\\atari_roms\\breakout.bin\n",
      "copying carnival.bin from .\\ROMS\\ROMS\\Carnival (1982) (Coleco - Woodside Design Associates, Steve 'Jessica Stevens' Kitchen) (2468) ~.bin to G:\\img_dect\\tfod1\\lib\\site-packages\\atari_py\\atari_roms\\carnival.bin\n",
      "copying centipede.bin from .\\ROMS\\ROMS\\Centipede (1983) (Atari - GCC) (CX2676) ~.bin to G:\\img_dect\\tfod1\\lib\\site-packages\\atari_py\\atari_roms\\centipede.bin\n",
      "copying chopper_command.bin from .\\ROMS\\ROMS\\Chopper Command (1982) (Activision, Bob Whitehead) (AX-015, AX-015-04) ~.bin to G:\\img_dect\\tfod1\\lib\\site-packages\\atari_py\\atari_roms\\chopper_command.bin\n",
      "copying crazy_climber.bin from .\\ROMS\\ROMS\\Crazy Climber (1983) (Atari - Roklan, Joe Gaucher, Alex Leavens) (CX2683) ~.bin to G:\\img_dect\\tfod1\\lib\\site-packages\\atari_py\\atari_roms\\crazy_climber.bin\n",
      "copying defender.bin from .\\ROMS\\ROMS\\Defender (1982) (Atari, Robert C. Polaro, Alan J. Murphy - Sears) (CX2609 - 49-75186) ~.bin to G:\\img_dect\\tfod1\\lib\\site-packages\\atari_py\\atari_roms\\defender.bin\n",
      "copying demon_attack.bin from .\\ROMS\\ROMS\\Demon Attack (Death from Above) (1982) (Imagic, Rob Fulop) (720000-200, 720101-1B, 720101-1C, IA3200, IA3200C, IX-006-04) ~.bin to G:\\img_dect\\tfod1\\lib\\site-packages\\atari_py\\atari_roms\\demon_attack.bin\n",
      "copying donkey_kong.bin from .\\ROMS\\ROMS\\Donkey Kong (1982) (Coleco - Woodside Design Associates - Imaginative Systems Software, Garry Kitchen) (2451) ~.bin to G:\\img_dect\\tfod1\\lib\\site-packages\\atari_py\\atari_roms\\donkey_kong.bin\n",
      "copying double_dunk.bin from .\\ROMS\\ROMS\\Double Dunk (Super Basketball) (1989) (Atari, Matthew L. Hubbard) (CX26159) ~.bin to G:\\img_dect\\tfod1\\lib\\site-packages\\atari_py\\atari_roms\\double_dunk.bin\n",
      "copying elevator_action.bin from .\\ROMS\\ROMS\\Elevator Action (1983) (Atari, Dan Hitchens) (CX26126) (Prototype) ~.bin to G:\\img_dect\\tfod1\\lib\\site-packages\\atari_py\\atari_roms\\elevator_action.bin\n",
      "copying enduro.bin from .\\ROMS\\ROMS\\Enduro (1983) (Activision, Larry Miller) (AX-026, AX-026-04) ~.bin to G:\\img_dect\\tfod1\\lib\\site-packages\\atari_py\\atari_roms\\enduro.bin\n",
      "copying fishing_derby.bin from .\\ROMS\\ROMS\\Fishing Derby (1980) (Activision, David Crane) (AG-004) ~.bin to G:\\img_dect\\tfod1\\lib\\site-packages\\atari_py\\atari_roms\\fishing_derby.bin\n",
      "copying freeway.bin from .\\ROMS\\ROMS\\Freeway (1981) (Activision, David Crane) (AG-009, AG-009-04) ~.bin to G:\\img_dect\\tfod1\\lib\\site-packages\\atari_py\\atari_roms\\freeway.bin\n",
      "copying frogger.bin from .\\ROMS\\ROMS\\Frogger (1982) (Parker Brothers, Ed English, David Lamkins) (PB5300) ~.bin to G:\\img_dect\\tfod1\\lib\\site-packages\\atari_py\\atari_roms\\frogger.bin\n",
      "copying frostbite.bin from .\\ROMS\\ROMS\\Frostbite (1983) (Activision, Steve Cartwright) (AX-031) ~.bin to G:\\img_dect\\tfod1\\lib\\site-packages\\atari_py\\atari_roms\\frostbite.bin\n",
      "copying galaxian.bin from .\\ROMS\\ROMS\\Galaxian (1983) (Atari - GCC, Mark Ackerman, Tom Calderwood, Glenn Parker) (CX2684) ~.bin to G:\\img_dect\\tfod1\\lib\\site-packages\\atari_py\\atari_roms\\galaxian.bin\n",
      "copying gopher.bin from .\\ROMS\\ROMS\\Gopher (Gopher Attack) (1982) (U.S. Games Corporation - JWDA, Sylvia Day, Todd Marshall, Robin McDaniel, Henry Will IV) (VC2001) ~.bin to G:\\img_dect\\tfod1\\lib\\site-packages\\atari_py\\atari_roms\\gopher.bin\n",
      "copying gravitar.bin from .\\ROMS\\ROMS\\Gravitar (1983) (Atari, Dan Hitchens, Mimi Nyden) (CX2685) ~.bin to G:\\img_dect\\tfod1\\lib\\site-packages\\atari_py\\atari_roms\\gravitar.bin\n",
      "copying hero.bin from .\\ROMS\\ROMS\\H.E.R.O. (1984) (Activision, John Van Ryzin) (AZ-036-04) ~.bin to G:\\img_dect\\tfod1\\lib\\site-packages\\atari_py\\atari_roms\\hero.bin\n",
      "copying ice_hockey.bin from .\\ROMS\\ROMS\\Ice Hockey - Le Hockey Sur Glace (1981) (Activision, Alan Miller) (AX-012, CAX-012, AX-012-04) ~.bin to G:\\img_dect\\tfod1\\lib\\site-packages\\atari_py\\atari_roms\\ice_hockey.bin\n",
      "copying jamesbond.bin from .\\ROMS\\ROMS\\James Bond 007 (James Bond Agent 007) (1984) (Parker Brothers - On-Time Software, Joe Gaucher, Louis Marbel) (PB5110) ~.bin to G:\\img_dect\\tfod1\\lib\\site-packages\\atari_py\\atari_roms\\jamesbond.bin\n",
      "copying journey_escape.bin from .\\ROMS\\ROMS\\Journey Escape (1983) (Data Age, J. Ray Dettling) (112-006) ~.bin to G:\\img_dect\\tfod1\\lib\\site-packages\\atari_py\\atari_roms\\journey_escape.bin\n",
      "copying kaboom.bin from .\\ROMS\\ROMS\\Kaboom! (Paddle) (1981) (Activision, Larry Kaplan, David Crane) (AG-010, AG-010-04) ~.bin to G:\\img_dect\\tfod1\\lib\\site-packages\\atari_py\\atari_roms\\kaboom.bin\n",
      "copying kangaroo.bin from .\\ROMS\\ROMS\\Kangaroo (1983) (Atari - GCC, Kevin Osborn) (CX2689) ~.bin to G:\\img_dect\\tfod1\\lib\\site-packages\\atari_py\\atari_roms\\kangaroo.bin\n",
      "copying keystone_kapers.bin from .\\ROMS\\ROMS\\Keystone Kapers - Raueber und Gendarm (1983) (Activision, Garry Kitchen - Ariola) (EAX-025, EAX-025-04I - 711 025-725) (PAL).bin to G:\\img_dect\\tfod1\\lib\\site-packages\\atari_py\\atari_roms\\keystone_kapers.bin\n",
      "copying king_kong.bin from .\\ROMS\\ROMS\\King Kong (1982) (Tigervision - Software Electronics Corporation, Karl T. Olinger - Teldec) (7-001 - 3.60001 VE) (PAL).bin to G:\\img_dect\\tfod1\\lib\\site-packages\\atari_py\\atari_roms\\king_kong.bin\n",
      "copying koolaid.bin from .\\ROMS\\ROMS\\Kool-Aid Man (Kool Aid Pitcher Man) (1983) (M Network, Stephen Tatsumi, Jane Terjung - Kool Aid) (MT4648) ~.bin to G:\\img_dect\\tfod1\\lib\\site-packages\\atari_py\\atari_roms\\koolaid.bin\n",
      "copying krull.bin from .\\ROMS\\ROMS\\Krull (1983) (Atari, Jerome Domurat, Dave Staugas) (CX2682) ~.bin to G:\\img_dect\\tfod1\\lib\\site-packages\\atari_py\\atari_roms\\krull.bin\n",
      "copying kung_fu_master.bin from .\\ROMS\\ROMS\\Kung-Fu Master (1987) (Activision - Imagineering, Dan Kitchen, Garry Kitchen) (AG-039-04) ~.bin to G:\\img_dect\\tfod1\\lib\\site-packages\\atari_py\\atari_roms\\kung_fu_master.bin\n",
      "copying laser_gates.bin from .\\ROMS\\ROMS\\Laser Gates (AKA Innerspace) (1983) (Imagic, Dan Oliver) (720118-2A, 13208, EIX-007-04I) (PAL).bin to G:\\img_dect\\tfod1\\lib\\site-packages\\atari_py\\atari_roms\\laser_gates.bin\n",
      "copying lost_luggage.bin from .\\ROMS\\ROMS\\Lost Luggage (Airport Mayhem) (1982) (Apollo - Games by Apollo, Larry Minor, Ernie Runyon, Ed Salvo) (AP-2004) [no opening scene] ~.bin to G:\\img_dect\\tfod1\\lib\\site-packages\\atari_py\\atari_roms\\lost_luggage.bin\n",
      "copying montezuma_revenge.bin from .\\ROMS\\ROMS\\Montezuma's Revenge - Featuring Panama Joe (1984) (Parker Brothers - JWDA, Henry Will IV) (PB5760) ~.bin to G:\\img_dect\\tfod1\\lib\\site-packages\\atari_py\\atari_roms\\montezuma_revenge.bin\n",
      "copying mr_do.bin from .\\ROMS\\ROMS\\Mr. Do! (1983) (CBS Electronics, Ed English) (4L4478) (PAL).bin to G:\\img_dect\\tfod1\\lib\\site-packages\\atari_py\\atari_roms\\mr_do.bin\n",
      "copying ms_pacman.bin from .\\ROMS\\ROMS\\Ms. Pac-Man (1983) (Atari - GCC, Mark Ackerman, Glenn Parker) (CX2675) ~.bin to G:\\img_dect\\tfod1\\lib\\site-packages\\atari_py\\atari_roms\\ms_pacman.bin\n",
      "copying name_this_game.bin from .\\ROMS\\ROMS\\Name This Game (Guardians of Treasure) (1983) (U.S. Games Corporation - JWDA, Roger Booth, Sylvia Day, Ron Dubren, Todd Marshall, Robin McDaniel, Wes Trager, Henry Will IV) (VC1007) ~.bin to G:\\img_dect\\tfod1\\lib\\site-packages\\atari_py\\atari_roms\\name_this_game.bin\n",
      "copying pacman.bin from .\\ROMS\\ROMS\\Pac-Man (1982) (Atari, Tod Frye) (CX2646) (PAL).bin to G:\\img_dect\\tfod1\\lib\\site-packages\\atari_py\\atari_roms\\pacman.bin\n",
      "copying phoenix.bin from .\\ROMS\\ROMS\\Phoenix (1983) (Atari - GCC, Mike Feinstein, John Mracek) (CX2673) ~.bin to G:\\img_dect\\tfod1\\lib\\site-packages\\atari_py\\atari_roms\\phoenix.bin\n",
      "copying video_pinball.bin from .\\ROMS\\ROMS\\Pinball (AKA Video Pinball) (Zellers).bin to G:\\img_dect\\tfod1\\lib\\site-packages\\atari_py\\atari_roms\\video_pinball.bin\n",
      "copying pitfall.bin from .\\ROMS\\ROMS\\Pitfall! - Pitfall Harry's Jungle Adventure (Jungle Runner) (1982) (Activision, David Crane) (AX-018, AX-018-04) ~.bin to G:\\img_dect\\tfod1\\lib\\site-packages\\atari_py\\atari_roms\\pitfall.bin\n",
      "copying pooyan.bin from .\\ROMS\\ROMS\\Pooyan (1983) (Konami) (RC 100-X 02) ~.bin to G:\\img_dect\\tfod1\\lib\\site-packages\\atari_py\\atari_roms\\pooyan.bin\n",
      "copying private_eye.bin from .\\ROMS\\ROMS\\Private Eye (1984) (Activision, Bob Whitehead) (AG-034-04) ~.bin to G:\\img_dect\\tfod1\\lib\\site-packages\\atari_py\\atari_roms\\private_eye.bin\n",
      "copying qbert.bin from .\\ROMS\\ROMS\\Q-bert (1983) (Parker Brothers - Western Technologies, Dave Hampton, Tom Sloper) (PB5360) ~.bin to G:\\img_dect\\tfod1\\lib\\site-packages\\atari_py\\atari_roms\\qbert.bin\n",
      "copying riverraid.bin from .\\ROMS\\ROMS\\River Raid (1982) (Activision, Carol Shaw) (AX-020, AX-020-04) ~.bin to G:\\img_dect\\tfod1\\lib\\site-packages\\atari_py\\atari_roms\\riverraid.bin\n",
      "copying road_runner.bin from patched version of .\\ROMS\\ROMS\\Road Runner (1989) (Atari - Bobco, Robert C. Polaro) (CX2663) ~.bin to G:\\img_dect\\tfod1\\lib\\site-packages\\atari_py\\atari_roms\\road_runner.bin\n",
      "copying robotank.bin from .\\ROMS\\ROMS\\Robot Tank (Robotank) (1983) (Activision, Alan Miller) (AZ-028, AG-028-04) ~.bin to G:\\img_dect\\tfod1\\lib\\site-packages\\atari_py\\atari_roms\\robotank.bin\n",
      "copying seaquest.bin from .\\ROMS\\ROMS\\Seaquest (1983) (Activision, Steve Cartwright) (AX-022) ~.bin to G:\\img_dect\\tfod1\\lib\\site-packages\\atari_py\\atari_roms\\seaquest.bin\n",
      "copying sir_lancelot.bin from .\\ROMS\\ROMS\\Sir Lancelot (1983) (Xonox - K-Tel Software - Product Guild, Anthony R. Henderson) (99006, 6220) (PAL).bin to G:\\img_dect\\tfod1\\lib\\site-packages\\atari_py\\atari_roms\\sir_lancelot.bin\n",
      "copying skiing.bin from .\\ROMS\\ROMS\\Skiing - Le Ski (1980) (Activision, Bob Whitehead) (AG-005, CAG-005, AG-005-04) ~.bin to G:\\img_dect\\tfod1\\lib\\site-packages\\atari_py\\atari_roms\\skiing.bin\n",
      "copying solaris.bin from .\\ROMS\\ROMS\\Solaris (The Last Starfighter, Star Raiders II, Universe) (1986) (Atari, Douglas Neubauer, Mimi Nyden) (CX26136) ~.bin to G:\\img_dect\\tfod1\\lib\\site-packages\\atari_py\\atari_roms\\solaris.bin\n",
      "copying space_invaders.bin from .\\ROMS\\ROMS\\Space Invaders (1980) (Atari, Richard Maurer - Sears) (CX2632 - 49-75153) ~.bin to G:\\img_dect\\tfod1\\lib\\site-packages\\atari_py\\atari_roms\\space_invaders.bin\n",
      "copying star_gunner.bin from .\\ROMS\\ROMS\\Stargunner (1983) (Telesys, Alex Leavens) (1005) ~.bin to G:\\img_dect\\tfod1\\lib\\site-packages\\atari_py\\atari_roms\\star_gunner.bin\n",
      "copying surround.bin from .\\ROMS\\ROMS\\Surround (32 in 1) (Bit Corporation) (R320).bin to G:\\img_dect\\tfod1\\lib\\site-packages\\atari_py\\atari_roms\\surround.bin\n",
      "copying tennis.bin from .\\ROMS\\ROMS\\Tennis - Le Tennis (1981) (Activision, Alan Miller) (AG-007, CAG-007) ~.bin to G:\\img_dect\\tfod1\\lib\\site-packages\\atari_py\\atari_roms\\tennis.bin\n",
      "copying time_pilot.bin from .\\ROMS\\ROMS\\Time Pilot (1983) (Coleco - Woodside Design Associates, Harley H. Puthuff Jr.) (2663) ~.bin to G:\\img_dect\\tfod1\\lib\\site-packages\\atari_py\\atari_roms\\time_pilot.bin\n",
      "copying trondead.bin from .\\ROMS\\ROMS\\TRON - Deadly Discs (TRON Joystick) (1983) (M Network - INTV - APh Technological Consulting, Jeff Ronne, Brett Stutz) (MT5662) ~.bin to G:\\img_dect\\tfod1\\lib\\site-packages\\atari_py\\atari_roms\\trondead.bin\n",
      "copying tutankham.bin from .\\ROMS\\ROMS\\Tutankham (1983) (Parker Brothers, Dave Engman, Dawn Stockbridge) (PB5340) ~.bin to G:\\img_dect\\tfod1\\lib\\site-packages\\atari_py\\atari_roms\\tutankham.bin\n",
      "copying up_n_down.bin from .\\ROMS\\ROMS\\Up 'n Down (1984) (SEGA - Beck-Tech, Steve Beck, Phat Ho) (009-01) ~.bin to G:\\img_dect\\tfod1\\lib\\site-packages\\atari_py\\atari_roms\\up_n_down.bin\n",
      "copying venture.bin from .\\ROMS\\ROMS\\Venture (1982) (Coleco, Joseph Biel) (2457) ~.bin to G:\\img_dect\\tfod1\\lib\\site-packages\\atari_py\\atari_roms\\venture.bin\n",
      "copying pong.bin from .\\ROMS\\ROMS\\Video Olympics - Pong Sports (Paddle) (1977) (Atari, Joe Decuir - Sears) (CX2621 - 99806, 6-99806, 49-75104) ~.bin to G:\\img_dect\\tfod1\\lib\\site-packages\\atari_py\\atari_roms\\pong.bin\n",
      "copying wizard_of_wor.bin from .\\ROMS\\ROMS\\Wizard of Wor (1982) (CBS Electronics - Roklan, Joe Hellesen, Joe Wagner) (M8774, M8794) ~.bin to G:\\img_dect\\tfod1\\lib\\site-packages\\atari_py\\atari_roms\\wizard_of_wor.bin\n",
      "copying yars_revenge.bin from .\\ROMS\\ROMS\\Yars' Revenge (Time Freeze) (1982) (Atari, Howard Scott Warshaw - Sears) (CX2655 - 49-75167) ~.bin to G:\\img_dect\\tfod1\\lib\\site-packages\\atari_py\\atari_roms\\yars_revenge.bin\n",
      "copying zaxxon.bin from .\\ROMS\\ROMS\\Zaxxon (1983) (Coleco) (2454) ~.bin to G:\\img_dect\\tfod1\\lib\\site-packages\\atari_py\\atari_roms\\zaxxon.bin\n"
     ]
    }
   ],
   "source": [
    "!python -m atari_py.import_roms .\\ROMS\\ROMS"
   ]
  },
  {
   "cell_type": "code",
   "execution_count": 5,
   "id": "4290068c",
   "metadata": {},
   "outputs": [],
   "source": [
    "enviroment_name=\"Breakout-v0\"\n",
    "env=gym.make(enviroment_name)"
   ]
  },
  {
   "cell_type": "code",
   "execution_count": 6,
   "id": "327a8707",
   "metadata": {},
   "outputs": [
    {
     "name": "stderr",
     "output_type": "stream",
     "text": [
      "G:\\img_dect\\tfod1\\lib\\site-packages\\pyglet\\image\\codecs\\wic.py:289: UserWarning: [WinError -2147417850] Cannot change thread mode after it is set\n",
      "  warnings.warn(str(err))\n"
     ]
    },
    {
     "name": "stdout",
     "output_type": "stream",
     "text": [
      "episodes:1 score:0.0\n",
      "episodes:2 score:0.0\n",
      "episodes:3 score:2.0\n",
      "episodes:4 score:1.0\n",
      "episodes:5 score:4.0\n",
      "episodes:6 score:2.0\n",
      "episodes:7 score:3.0\n",
      "episodes:8 score:1.0\n",
      "episodes:9 score:4.0\n",
      "episodes:10 score:2.0\n"
     ]
    }
   ],
   "source": [
    "episodes=10\n",
    "for episode in range(1,episodes+1):\n",
    "    obs=env.reset()\n",
    "    done=False\n",
    "    score=0\n",
    "    while not done:\n",
    "        env.render()\n",
    "        action=env.action_space.sample()\n",
    "        obs,reward,done,info=env.step(action)\n",
    "        score+=reward\n",
    "    print(\"episodes:{} score:{}\".format(episode,score))\n",
    "\n",
    "        "
   ]
  },
  {
   "cell_type": "code",
   "execution_count": 7,
   "id": "ab67efcf",
   "metadata": {},
   "outputs": [
    {
     "data": {
      "text/plain": [
       "0"
      ]
     },
     "execution_count": 7,
     "metadata": {},
     "output_type": "execute_result"
    }
   ],
   "source": [
    "env.action_space.sample()"
   ]
  },
  {
   "cell_type": "code",
   "execution_count": 8,
   "id": "14765760",
   "metadata": {},
   "outputs": [
    {
     "data": {
      "text/plain": [
       "array([[[157, 180, 132],\n",
       "        [248, 245,  15],\n",
       "        [207, 171,  81],\n",
       "        ...,\n",
       "        [ 81, 136, 203],\n",
       "        [121, 219, 202],\n",
       "        [219,  57, 190]],\n",
       "\n",
       "       [[175,  68, 171],\n",
       "        [  6, 152, 153],\n",
       "        [199, 123,  87],\n",
       "        ...,\n",
       "        [ 81,  10,  10],\n",
       "        [102,  45, 186],\n",
       "        [186,   4,   6]],\n",
       "\n",
       "       [[158, 203,  39],\n",
       "        [ 81,  29,  87],\n",
       "        [  8, 162, 204],\n",
       "        ...,\n",
       "        [ 40,  50, 198],\n",
       "        [245, 202, 200],\n",
       "        [127, 205, 220]],\n",
       "\n",
       "       ...,\n",
       "\n",
       "       [[179,  76, 103],\n",
       "        [ 25, 226,  19],\n",
       "        [102, 191, 233],\n",
       "        ...,\n",
       "        [ 85,  72,  33],\n",
       "        [ 89, 191, 205],\n",
       "        [196,  43, 116]],\n",
       "\n",
       "       [[231, 122, 207],\n",
       "        [ 81, 175, 166],\n",
       "        [ 88,  63, 211],\n",
       "        ...,\n",
       "        [241,   0,  77],\n",
       "        [154, 108, 140],\n",
       "        [153, 185, 230]],\n",
       "\n",
       "       [[240,  14, 171],\n",
       "        [103, 206, 208],\n",
       "        [191,  80, 143],\n",
       "        ...,\n",
       "        [ 98, 192,  32],\n",
       "        [  6,  80,   5],\n",
       "        [213, 152,  85]]], dtype=uint8)"
      ]
     },
     "execution_count": 8,
     "metadata": {},
     "output_type": "execute_result"
    }
   ],
   "source": [
    "env.observation_space.sample()"
   ]
  },
  {
   "cell_type": "code",
   "execution_count": 9,
   "id": "ceb26fb4",
   "metadata": {},
   "outputs": [],
   "source": [
    "# vectorisation & testing\n",
    "env=make_atari_env('Breakout-v0',n_envs=4,seed=0)"
   ]
  },
  {
   "cell_type": "code",
   "execution_count": 10,
   "id": "dec694a3",
   "metadata": {},
   "outputs": [],
   "source": [
    "env=VecFrameStack(env,n_stack=4)"
   ]
  },
  {
   "cell_type": "code",
   "execution_count": 11,
   "id": "39a17c82",
   "metadata": {},
   "outputs": [],
   "source": [
    "log_path=os.path.join('training','log_path')"
   ]
  },
  {
   "cell_type": "code",
   "execution_count": 12,
   "id": "d4db5a92",
   "metadata": {},
   "outputs": [
    {
     "name": "stdout",
     "output_type": "stream",
     "text": [
      "Using cpu device\n",
      "Wrapping the env in a VecTransposeImage.\n"
     ]
    }
   ],
   "source": [
    "model=A2C('CnnPolicy',env,verbose=1,tensorboard_log=log_path)"
   ]
  },
  {
   "cell_type": "code",
   "execution_count": 13,
   "id": "42b13ead",
   "metadata": {},
   "outputs": [
    {
     "name": "stderr",
     "output_type": "stream",
     "text": [
      "Exception ignored in: <function SimpleImageViewer.__del__ at 0x0000022E4375B8B0>\n",
      "Traceback (most recent call last):\n",
      "  File \"G:\\img_dect\\tfod1\\lib\\site-packages\\gym\\envs\\classic_control\\rendering.py\", line 458, in __del__\n",
      "    self.close()\n",
      "  File \"G:\\img_dect\\tfod1\\lib\\site-packages\\gym\\envs\\classic_control\\rendering.py\", line 454, in close\n",
      "    self.window.close()\n",
      "  File \"G:\\img_dect\\tfod1\\lib\\site-packages\\pyglet\\window\\win32\\__init__.py\", line 328, in close\n",
      "    super(Win32Window, self).close()\n",
      "  File \"G:\\img_dect\\tfod1\\lib\\site-packages\\pyglet\\window\\__init__.py\", line 857, in close\n",
      "    app.windows.remove(self)\n",
      "  File \"C:\\Python3.9\\lib\\_weakrefset.py\", line 110, in remove\n",
      "    self.data.remove(ref(item))\n",
      "KeyError: <weakref at 0x0000022E3D415B80; to 'Win32Window' at 0x0000022E3D63F130>\n"
     ]
    },
    {
     "name": "stdout",
     "output_type": "stream",
     "text": [
      "Logging to training\\log_path\\A2C_3\n",
      "------------------------------------\n",
      "| rollout/              |          |\n",
      "|    ep_len_mean        | 293      |\n",
      "|    ep_rew_mean        | 1.79     |\n",
      "| time/                 |          |\n",
      "|    fps                | 34       |\n",
      "|    iterations         | 100      |\n",
      "|    time_elapsed       | 58       |\n",
      "|    total_timesteps    | 2000     |\n",
      "| train/                |          |\n",
      "|    entropy_loss       | -1.36    |\n",
      "|    explained_variance | 0.068    |\n",
      "|    learning_rate      | 0.0007   |\n",
      "|    n_updates          | 99       |\n",
      "|    policy_loss        | 0.425    |\n",
      "|    value_loss         | 0.339    |\n",
      "------------------------------------\n",
      "------------------------------------\n",
      "| rollout/              |          |\n",
      "|    ep_len_mean        | 281      |\n",
      "|    ep_rew_mean        | 1.59     |\n",
      "| time/                 |          |\n",
      "|    fps                | 49       |\n",
      "|    iterations         | 200      |\n",
      "|    time_elapsed       | 81       |\n",
      "|    total_timesteps    | 4000     |\n",
      "| train/                |          |\n",
      "|    entropy_loss       | -0.633   |\n",
      "|    explained_variance | 0.709    |\n",
      "|    learning_rate      | 0.0007   |\n",
      "|    n_updates          | 199      |\n",
      "|    policy_loss        | -0.283   |\n",
      "|    value_loss         | 0.316    |\n",
      "------------------------------------\n",
      "------------------------------------\n",
      "| rollout/              |          |\n",
      "|    ep_len_mean        | 279      |\n",
      "|    ep_rew_mean        | 1.64     |\n",
      "| time/                 |          |\n",
      "|    fps                | 57       |\n",
      "|    iterations         | 300      |\n",
      "|    time_elapsed       | 104      |\n",
      "|    total_timesteps    | 6000     |\n",
      "| train/                |          |\n",
      "|    entropy_loss       | -0.49    |\n",
      "|    explained_variance | 0.907    |\n",
      "|    learning_rate      | 0.0007   |\n",
      "|    n_updates          | 299      |\n",
      "|    policy_loss        | 0.00122  |\n",
      "|    value_loss         | 0.0227   |\n",
      "------------------------------------\n",
      "------------------------------------\n",
      "| rollout/              |          |\n",
      "|    ep_len_mean        | 283      |\n",
      "|    ep_rew_mean        | 1.85     |\n",
      "| time/                 |          |\n",
      "|    fps                | 62       |\n",
      "|    iterations         | 400      |\n",
      "|    time_elapsed       | 128      |\n",
      "|    total_timesteps    | 8000     |\n",
      "| train/                |          |\n",
      "|    entropy_loss       | -0.179   |\n",
      "|    explained_variance | 0.887    |\n",
      "|    learning_rate      | 0.0007   |\n",
      "|    n_updates          | 399      |\n",
      "|    policy_loss        | 0.0477   |\n",
      "|    value_loss         | 0.0703   |\n",
      "------------------------------------\n",
      "------------------------------------\n",
      "| rollout/              |          |\n",
      "|    ep_len_mean        | 290      |\n",
      "|    ep_rew_mean        | 2.04     |\n",
      "| time/                 |          |\n",
      "|    fps                | 64       |\n",
      "|    iterations         | 500      |\n",
      "|    time_elapsed       | 155      |\n",
      "|    total_timesteps    | 10000    |\n",
      "| train/                |          |\n",
      "|    entropy_loss       | -0.236   |\n",
      "|    explained_variance | 0.808    |\n",
      "|    learning_rate      | 0.0007   |\n",
      "|    n_updates          | 499      |\n",
      "|    policy_loss        | -0.00839 |\n",
      "|    value_loss         | 0.115    |\n",
      "------------------------------------\n",
      "-------------------------------------\n",
      "| rollout/              |           |\n",
      "|    ep_len_mean        | 297       |\n",
      "|    ep_rew_mean        | 2.15      |\n",
      "| time/                 |           |\n",
      "|    fps                | 67        |\n",
      "|    iterations         | 600       |\n",
      "|    time_elapsed       | 178       |\n",
      "|    total_timesteps    | 12000     |\n",
      "| train/                |           |\n",
      "|    entropy_loss       | -0.032    |\n",
      "|    explained_variance | 0.933     |\n",
      "|    learning_rate      | 0.0007    |\n",
      "|    n_updates          | 599       |\n",
      "|    policy_loss        | -0.000289 |\n",
      "|    value_loss         | 0.04      |\n",
      "-------------------------------------\n",
      "-------------------------------------\n",
      "| rollout/              |           |\n",
      "|    ep_len_mean        | 294       |\n",
      "|    ep_rew_mean        | 2.14      |\n",
      "| time/                 |           |\n",
      "|    fps                | 69        |\n",
      "|    iterations         | 700       |\n",
      "|    time_elapsed       | 201       |\n",
      "|    total_timesteps    | 14000     |\n",
      "| train/                |           |\n",
      "|    entropy_loss       | -0.0952   |\n",
      "|    explained_variance | 0.99      |\n",
      "|    learning_rate      | 0.0007    |\n",
      "|    n_updates          | 699       |\n",
      "|    policy_loss        | -0.000124 |\n",
      "|    value_loss         | 0.00226   |\n",
      "-------------------------------------\n",
      "-------------------------------------\n",
      "| rollout/              |           |\n",
      "|    ep_len_mean        | 295       |\n",
      "|    ep_rew_mean        | 2.21      |\n",
      "| time/                 |           |\n",
      "|    fps                | 71        |\n",
      "|    iterations         | 800       |\n",
      "|    time_elapsed       | 224       |\n",
      "|    total_timesteps    | 16000     |\n",
      "| train/                |           |\n",
      "|    entropy_loss       | -0.0901   |\n",
      "|    explained_variance | 0.988     |\n",
      "|    learning_rate      | 0.0007    |\n",
      "|    n_updates          | 799       |\n",
      "|    policy_loss        | -0.000155 |\n",
      "|    value_loss         | 0.0058    |\n",
      "-------------------------------------\n",
      "------------------------------------\n",
      "| rollout/              |          |\n",
      "|    ep_len_mean        | 290      |\n",
      "|    ep_rew_mean        | 2.13     |\n",
      "| time/                 |          |\n",
      "|    fps                | 72       |\n",
      "|    iterations         | 900      |\n",
      "|    time_elapsed       | 248      |\n",
      "|    total_timesteps    | 18000    |\n",
      "| train/                |          |\n",
      "|    entropy_loss       | -0.0599  |\n",
      "|    explained_variance | 0.976    |\n",
      "|    learning_rate      | 0.0007   |\n",
      "|    n_updates          | 899      |\n",
      "|    policy_loss        | -0.0148  |\n",
      "|    value_loss         | 0.00799  |\n",
      "------------------------------------\n",
      "------------------------------------\n",
      "| rollout/              |          |\n",
      "|    ep_len_mean        | 293      |\n",
      "|    ep_rew_mean        | 2.19     |\n",
      "| time/                 |          |\n",
      "|    fps                | 73       |\n",
      "|    iterations         | 1000     |\n",
      "|    time_elapsed       | 273      |\n",
      "|    total_timesteps    | 20000    |\n",
      "| train/                |          |\n",
      "|    entropy_loss       | -0.0451  |\n",
      "|    explained_variance | 0.975    |\n",
      "|    learning_rate      | 0.0007   |\n",
      "|    n_updates          | 999      |\n",
      "|    policy_loss        | 3.88e-05 |\n",
      "|    value_loss         | 0.0175   |\n",
      "------------------------------------\n"
     ]
    },
    {
     "data": {
      "text/plain": [
       "<stable_baselines3.a2c.a2c.A2C at 0x22e437695e0>"
      ]
     },
     "execution_count": 13,
     "metadata": {},
     "output_type": "execute_result"
    }
   ],
   "source": [
    "model.learn(total_timesteps=20000)"
   ]
  },
  {
   "cell_type": "code",
   "execution_count": 14,
   "id": "85799d97",
   "metadata": {},
   "outputs": [],
   "source": [
    "a2c_path=os.path.join('training','saved Models','A2C_model')\n"
   ]
  },
  {
   "cell_type": "code",
   "execution_count": 15,
   "id": "6a58e324",
   "metadata": {},
   "outputs": [],
   "source": [
    "model.save(a2c_path)"
   ]
  },
  {
   "cell_type": "code",
   "execution_count": 16,
   "id": "a9cc91ef",
   "metadata": {},
   "outputs": [],
   "source": [
    "# del  model"
   ]
  },
  {
   "cell_type": "code",
   "execution_count": 17,
   "id": "7693573f",
   "metadata": {},
   "outputs": [],
   "source": [
    "env=make_atari_env('Breakout-v0',n_envs=1,seed=0)\n",
    "env=VecFrameStack(env,n_stack=4)"
   ]
  },
  {
   "cell_type": "code",
   "execution_count": 18,
   "id": "dd2266b4",
   "metadata": {},
   "outputs": [],
   "source": [
    "# model=A2C.load(a2c_path,env)"
   ]
  },
  {
   "cell_type": "code",
   "execution_count": 19,
   "id": "24ccc1c0",
   "metadata": {},
   "outputs": [
    {
     "data": {
      "text/plain": [
       "(2.3, 0.45825756949558405)"
      ]
     },
     "execution_count": 19,
     "metadata": {},
     "output_type": "execute_result"
    }
   ],
   "source": [
    "evaluate_policy(model,env,n_eval_episodes=10,render=True)"
   ]
  },
  {
   "cell_type": "code",
   "execution_count": null,
   "id": "71cf700c",
   "metadata": {},
   "outputs": [],
   "source": []
  },
  {
   "cell_type": "code",
   "execution_count": 20,
   "id": "3387f927",
   "metadata": {},
   "outputs": [],
   "source": [
    "# obs=env.reset()\n",
    "# done=False\n",
    "# while not done:\n",
    "#     action,_=model.predict(obs)\n",
    "# #     score+=reward\n",
    "#     obs,reward,done,info=env.step(action)\n",
    "#     score+=reward\n",
    "#     print('episode:{} score:{}'.format(episode,score))\n",
    "#     env.render()\n",
    "# env.close()\n",
    "    "
   ]
  },
  {
   "cell_type": "code",
   "execution_count": 21,
   "id": "98ebd8ac",
   "metadata": {},
   "outputs": [],
   "source": [
    "env.close()"
   ]
  },
  {
   "cell_type": "code",
   "execution_count": 22,
   "id": "289577c1",
   "metadata": {},
   "outputs": [
    {
     "name": "stdout",
     "output_type": "stream",
     "text": [
      "episodes:1 score:[0.]\n",
      "episodes:2 score:[0.]\n",
      "episodes:3 score:[0.]\n",
      "episodes:4 score:[0.]\n",
      "episodes:5 score:[0.]\n",
      "episodes:6 score:[0.]\n",
      "episodes:7 score:[2.]\n",
      "episodes:8 score:[0.]\n",
      "episodes:9 score:[0.]\n",
      "episodes:10 score:[0.]\n"
     ]
    }
   ],
   "source": [
    "episodes=10\n",
    "for episode in range(1,episodes+1):\n",
    "    obs=env.reset()\n",
    "    done=False\n",
    "    score=0\n",
    "    while not done:\n",
    "        env.render()\n",
    "        action=model.predict(obs)\n",
    "        obs,reward,done,info=env.step(action)\n",
    "        score+=reward\n",
    "    print(\"episodes:{} score:{}\".format(episode,score))"
   ]
  },
  {
   "cell_type": "code",
   "execution_count": null,
   "id": "81344d4a",
   "metadata": {},
   "outputs": [],
   "source": []
  }
 ],
 "metadata": {
  "kernelspec": {
   "display_name": "tfod1",
   "language": "python",
   "name": "tfod1"
  },
  "language_info": {
   "codemirror_mode": {
    "name": "ipython",
    "version": 3
   },
   "file_extension": ".py",
   "mimetype": "text/x-python",
   "name": "python",
   "nbconvert_exporter": "python",
   "pygments_lexer": "ipython3",
   "version": "3.9.2"
  }
 },
 "nbformat": 4,
 "nbformat_minor": 5
}
