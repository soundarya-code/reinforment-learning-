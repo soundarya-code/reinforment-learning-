{
 "cells": [
  {
   "cell_type": "code",
   "execution_count": 10,
   "id": "001fc75b",
   "metadata": {},
   "outputs": [],
   "source": [
    "import gym\n",
    "from gym import Env\n",
    "import os\n",
    "import random\n",
    "from gym.spaces import Box,Discrete,Tuple,MultiBinary,MultiDiscrete,Dict\n",
    "import numpy as np\n",
    "from stable_baselines3 import PPO\n",
    "from stable_baselines3.common.vec_env import VecFrameStack\n",
    "from stable_baselines3.common.evaluation import evaluate_policy"
   ]
  },
  {
   "cell_type": "code",
   "execution_count": 11,
   "id": "c4587398",
   "metadata": {},
   "outputs": [
    {
     "data": {
      "text/plain": [
       "0"
      ]
     },
     "execution_count": 11,
     "metadata": {},
     "output_type": "execute_result"
    }
   ],
   "source": [
    "Discrete(3).sample()"
   ]
  },
  {
   "cell_type": "code",
   "execution_count": 12,
   "id": "1fe1aa9a",
   "metadata": {},
   "outputs": [
    {
     "data": {
      "text/plain": [
       "Box(1,)"
      ]
     },
     "execution_count": 12,
     "metadata": {},
     "output_type": "execute_result"
    }
   ],
   "source": [
    "Box(0,1,shape=(1,))"
   ]
  },
  {
   "cell_type": "code",
   "execution_count": 13,
   "id": "fa64e61b",
   "metadata": {},
   "outputs": [
    {
     "data": {
      "text/plain": [
       "Tuple(Discrete(3), Box(1,))"
      ]
     },
     "execution_count": 13,
     "metadata": {},
     "output_type": "execute_result"
    }
   ],
   "source": [
    "Tuple((Discrete(3),Box(0,1,shape=(1,))))"
   ]
  },
  {
   "cell_type": "code",
   "execution_count": 14,
   "id": "01359d38",
   "metadata": {},
   "outputs": [
    {
     "data": {
      "text/plain": [
       "Dict(height:Discrete(3), width:Box(1,))"
      ]
     },
     "execution_count": 14,
     "metadata": {},
     "output_type": "execute_result"
    }
   ],
   "source": [
    "Dict({'height':Discrete(3),'width':Box(0,1,shape=(1,))})"
   ]
  },
  {
   "cell_type": "code",
   "execution_count": 15,
   "id": "5ddb27b4",
   "metadata": {},
   "outputs": [
    {
     "data": {
      "text/plain": [
       "array([1, 0, 1, 1], dtype=int8)"
      ]
     },
     "execution_count": 15,
     "metadata": {},
     "output_type": "execute_result"
    }
   ],
   "source": [
    "MultiBinary(4).sample()"
   ]
  },
  {
   "cell_type": "code",
   "execution_count": 16,
   "id": "7075a6b0",
   "metadata": {},
   "outputs": [
    {
     "data": {
      "text/plain": [
       "array([0, 4, 1], dtype=int64)"
      ]
     },
     "execution_count": 16,
     "metadata": {},
     "output_type": "execute_result"
    }
   ],
   "source": [
    "MultiDiscrete([4,8,9]).sample()\n"
   ]
  },
  {
   "cell_type": "code",
   "execution_count": 17,
   "id": "469f2717",
   "metadata": {},
   "outputs": [],
   "source": [
    "class ShowerEnv(Env):\n",
    "    def __init__(self):\n",
    "        # Actions we can take, down, stay, up\n",
    "        self.action_space = Discrete(3)\n",
    "        # Temperature array\n",
    "        self.observation_space = Box(low=np.array([0]), high=np.array([100]))\n",
    "        # Set start temp\n",
    "        self.state = 38 + random.randint(-3,3)\n",
    "        # Set shower length\n",
    "        self.shower_length = 60\n",
    "        \n",
    "    def step(self, action):\n",
    "        # Apply action\n",
    "        # 0 -1 = -1 temperature\n",
    "        # 1 -1 = 0 \n",
    "        # 2 -1 = 1 temperature \n",
    "        self.state += action -1 \n",
    "        # Reduce shower length by 1 second\n",
    "        self.shower_length -= 1 \n",
    "        \n",
    "        # Calculate reward\n",
    "        if self.state >=37 and self.state <=39: \n",
    "            reward =1 \n",
    "        else: \n",
    "            reward = -1 \n",
    "        \n",
    "        # Check if shower is done\n",
    "        if self.shower_length <= 0: \n",
    "            done = True\n",
    "        else:\n",
    "            done = False\n",
    "        \n",
    "        # Apply temperature noise\n",
    "        #self.state += random.randint(-1,1)\n",
    "        # Set placeholder for info\n",
    "        info = {}\n",
    "        \n",
    "        # Return step information\n",
    "        return self.state, reward, done, info\n",
    "\n",
    "    def render(self):\n",
    "        # Implement viz\n",
    "        pass\n",
    "    \n",
    "    def reset(self):\n",
    "        # Reset shower temperature\n",
    "        self.state = np.array([38 + random.randint(-3,3)]).astype(float)\n",
    "        # Reset shower time\n",
    "        self.shower_length = 60 \n",
    "        return self.state\n",
    "        "
   ]
  },
  {
   "cell_type": "code",
   "execution_count": 18,
   "id": "468f5078",
   "metadata": {},
   "outputs": [],
   "source": [
    "env=ShowerEnv()"
   ]
  },
  {
   "cell_type": "code",
   "execution_count": 19,
   "id": "24b03f7b",
   "metadata": {},
   "outputs": [
    {
     "data": {
      "text/plain": [
       "array([64.952705], dtype=float32)"
      ]
     },
     "execution_count": 19,
     "metadata": {},
     "output_type": "execute_result"
    }
   ],
   "source": [
    "env.observation_space.sample()"
   ]
  },
  {
   "cell_type": "code",
   "execution_count": 20,
   "id": "bcfef6f7",
   "metadata": {},
   "outputs": [
    {
     "data": {
      "text/plain": [
       "array([39.])"
      ]
     },
     "execution_count": 20,
     "metadata": {},
     "output_type": "execute_result"
    }
   ],
   "source": [
    "env.reset()"
   ]
  },
  {
   "cell_type": "code",
   "execution_count": 22,
   "id": "8c80088e",
   "metadata": {},
   "outputs": [],
   "source": [
    "from stable_baselines3.common.env_checker import check_env"
   ]
  },
  {
   "cell_type": "code",
   "execution_count": 23,
   "id": "dff7e3f2",
   "metadata": {},
   "outputs": [],
   "source": [
    "check_env(env,warn=True)"
   ]
  },
  {
   "cell_type": "code",
   "execution_count": 25,
   "id": "ee4d1bbf",
   "metadata": {},
   "outputs": [
    {
     "name": "stdout",
     "output_type": "stream",
     "text": [
      "episode:1 score:0\n",
      "episode:2 score:0\n",
      "episode:3 score:0\n",
      "episode:4 score:0\n",
      "episode:5 score:0\n"
     ]
    }
   ],
   "source": [
    "episodes=5\n",
    "for episode in range(1,episodes+1):\n",
    "    obs=env.reset()\n",
    "    done=False\n",
    "    score=0\n",
    "    if not done:\n",
    "        env.render()\n",
    "        action=env.action_space.sample()\n",
    "        state,reward,info,done=env.step(action)\n",
    "        reward+=score\n",
    "        print('episode:{} score:{}'.format(episode,score))\n",
    "        "
   ]
  },
  {
   "cell_type": "code",
   "execution_count": 26,
   "id": "1939a828",
   "metadata": {},
   "outputs": [],
   "source": [
    "log_path=os.path.join('training','log_path')"
   ]
  },
  {
   "cell_type": "code",
   "execution_count": 28,
   "id": "bd4bd317",
   "metadata": {},
   "outputs": [
    {
     "name": "stdout",
     "output_type": "stream",
     "text": [
      "Using cpu device\n",
      "Wrapping the env with a `Monitor` wrapper\n",
      "Wrapping the env in a DummyVecEnv.\n"
     ]
    }
   ],
   "source": [
    "model=PPO('MlpPolicy',env,verbose=1)"
   ]
  },
  {
   "cell_type": "code",
   "execution_count": 34,
   "id": "6aec9592",
   "metadata": {},
   "outputs": [
    {
     "name": "stdout",
     "output_type": "stream",
     "text": [
      "---------------------------------\n",
      "| rollout/           |          |\n",
      "|    ep_len_mean     | 60       |\n",
      "|    ep_rew_mean     | -26.1    |\n",
      "| time/              |          |\n",
      "|    fps             | 2373     |\n",
      "|    iterations      | 1        |\n",
      "|    time_elapsed    | 0        |\n",
      "|    total_timesteps | 2048     |\n",
      "---------------------------------\n",
      "-----------------------------------------\n",
      "| rollout/                |             |\n",
      "|    ep_len_mean          | 60          |\n",
      "|    ep_rew_mean          | -24         |\n",
      "| time/                   |             |\n",
      "|    fps                  | 1574        |\n",
      "|    iterations           | 2           |\n",
      "|    time_elapsed         | 2           |\n",
      "|    total_timesteps      | 4096        |\n",
      "| train/                  |             |\n",
      "|    approx_kl            | 0.007365668 |\n",
      "|    clip_fraction        | 0.0433      |\n",
      "|    clip_range           | 0.2         |\n",
      "|    entropy_loss         | -0.985      |\n",
      "|    explained_variance   | -1.39e-05   |\n",
      "|    learning_rate        | 0.0003      |\n",
      "|    loss                 | 39.2        |\n",
      "|    n_updates            | 60          |\n",
      "|    policy_gradient_loss | -0.00317    |\n",
      "|    value_loss           | 82.7        |\n",
      "-----------------------------------------\n",
      "-----------------------------------------\n",
      "| rollout/                |             |\n",
      "|    ep_len_mean          | 60          |\n",
      "|    ep_rew_mean          | -21.9       |\n",
      "| time/                   |             |\n",
      "|    fps                  | 1405        |\n",
      "|    iterations           | 3           |\n",
      "|    time_elapsed         | 4           |\n",
      "|    total_timesteps      | 6144        |\n",
      "| train/                  |             |\n",
      "|    approx_kl            | 0.005299876 |\n",
      "|    clip_fraction        | 0.0274      |\n",
      "|    clip_range           | 0.2         |\n",
      "|    entropy_loss         | -0.979      |\n",
      "|    explained_variance   | 0.000117    |\n",
      "|    learning_rate        | 0.0003      |\n",
      "|    loss                 | 43.4        |\n",
      "|    n_updates            | 70          |\n",
      "|    policy_gradient_loss | -0.000782   |\n",
      "|    value_loss           | 75          |\n",
      "-----------------------------------------\n",
      "-----------------------------------------\n",
      "| rollout/                |             |\n",
      "|    ep_len_mean          | 60          |\n",
      "|    ep_rew_mean          | -18.4       |\n",
      "| time/                   |             |\n",
      "|    fps                  | 1361        |\n",
      "|    iterations           | 4           |\n",
      "|    time_elapsed         | 6           |\n",
      "|    total_timesteps      | 8192        |\n",
      "| train/                  |             |\n",
      "|    approx_kl            | 0.008356223 |\n",
      "|    clip_fraction        | 0.057       |\n",
      "|    clip_range           | 0.2         |\n",
      "|    entropy_loss         | -0.95       |\n",
      "|    explained_variance   | -0.00149    |\n",
      "|    learning_rate        | 0.0003      |\n",
      "|    loss                 | 29.5        |\n",
      "|    n_updates            | 80          |\n",
      "|    policy_gradient_loss | -0.00297    |\n",
      "|    value_loss           | 77.5        |\n",
      "-----------------------------------------\n",
      "------------------------------------------\n",
      "| rollout/                |              |\n",
      "|    ep_len_mean          | 60           |\n",
      "|    ep_rew_mean          | -16.8        |\n",
      "| time/                   |              |\n",
      "|    fps                  | 1327         |\n",
      "|    iterations           | 5            |\n",
      "|    time_elapsed         | 7            |\n",
      "|    total_timesteps      | 10240        |\n",
      "| train/                  |              |\n",
      "|    approx_kl            | 0.0149111785 |\n",
      "|    clip_fraction        | 0.139        |\n",
      "|    clip_range           | 0.2          |\n",
      "|    entropy_loss         | -0.882       |\n",
      "|    explained_variance   | -0.00077     |\n",
      "|    learning_rate        | 0.0003       |\n",
      "|    loss                 | 36           |\n",
      "|    n_updates            | 90           |\n",
      "|    policy_gradient_loss | -0.0112      |\n",
      "|    value_loss           | 77.8         |\n",
      "------------------------------------------\n",
      "----------------------------------------\n",
      "| rollout/                |            |\n",
      "|    ep_len_mean          | 60         |\n",
      "|    ep_rew_mean          | -18.4      |\n",
      "| time/                   |            |\n",
      "|    fps                  | 1305       |\n",
      "|    iterations           | 6          |\n",
      "|    time_elapsed         | 9          |\n",
      "|    total_timesteps      | 12288      |\n",
      "| train/                  |            |\n",
      "|    approx_kl            | 0.00165172 |\n",
      "|    clip_fraction        | 0.000293   |\n",
      "|    clip_range           | 0.2        |\n",
      "|    entropy_loss         | -0.863     |\n",
      "|    explained_variance   | 0.0032     |\n",
      "|    learning_rate        | 0.0003     |\n",
      "|    loss                 | 37.3       |\n",
      "|    n_updates            | 100        |\n",
      "|    policy_gradient_loss | -0.00028   |\n",
      "|    value_loss           | 80         |\n",
      "----------------------------------------\n",
      "-----------------------------------------\n",
      "| rollout/                |             |\n",
      "|    ep_len_mean          | 60          |\n",
      "|    ep_rew_mean          | -14.4       |\n",
      "| time/                   |             |\n",
      "|    fps                  | 1285        |\n",
      "|    iterations           | 7           |\n",
      "|    time_elapsed         | 11          |\n",
      "|    total_timesteps      | 14336       |\n",
      "| train/                  |             |\n",
      "|    approx_kl            | 0.004147535 |\n",
      "|    clip_fraction        | 0.0188      |\n",
      "|    clip_range           | 0.2         |\n",
      "|    entropy_loss         | -0.871      |\n",
      "|    explained_variance   | 0.0112      |\n",
      "|    learning_rate        | 0.0003      |\n",
      "|    loss                 | 43.2        |\n",
      "|    n_updates            | 110         |\n",
      "|    policy_gradient_loss | -0.000313   |\n",
      "|    value_loss           | 86.9        |\n",
      "-----------------------------------------\n",
      "------------------------------------------\n",
      "| rollout/                |              |\n",
      "|    ep_len_mean          | 60           |\n",
      "|    ep_rew_mean          | -16.4        |\n",
      "| time/                   |              |\n",
      "|    fps                  | 1281         |\n",
      "|    iterations           | 8            |\n",
      "|    time_elapsed         | 12           |\n",
      "|    total_timesteps      | 16384        |\n",
      "| train/                  |              |\n",
      "|    approx_kl            | 0.0035781125 |\n",
      "|    clip_fraction        | 0.0194       |\n",
      "|    clip_range           | 0.2          |\n",
      "|    entropy_loss         | -0.912       |\n",
      "|    explained_variance   | 0.000206     |\n",
      "|    learning_rate        | 0.0003       |\n",
      "|    loss                 | 30.5         |\n",
      "|    n_updates            | 120          |\n",
      "|    policy_gradient_loss | -0.000322    |\n",
      "|    value_loss           | 81.5         |\n",
      "------------------------------------------\n",
      "------------------------------------------\n",
      "| rollout/                |              |\n",
      "|    ep_len_mean          | 60           |\n",
      "|    ep_rew_mean          | -17.1        |\n",
      "| time/                   |              |\n",
      "|    fps                  | 1272         |\n",
      "|    iterations           | 9            |\n",
      "|    time_elapsed         | 14           |\n",
      "|    total_timesteps      | 18432        |\n",
      "| train/                  |              |\n",
      "|    approx_kl            | 0.0028932944 |\n",
      "|    clip_fraction        | 0.0124       |\n",
      "|    clip_range           | 0.2          |\n",
      "|    entropy_loss         | -0.908       |\n",
      "|    explained_variance   | 0.00791      |\n",
      "|    learning_rate        | 0.0003       |\n",
      "|    loss                 | 40.2         |\n",
      "|    n_updates            | 130          |\n",
      "|    policy_gradient_loss | -0.0027      |\n",
      "|    value_loss           | 74.1         |\n",
      "------------------------------------------\n",
      "------------------------------------------\n",
      "| rollout/                |              |\n",
      "|    ep_len_mean          | 60           |\n",
      "|    ep_rew_mean          | -17.1        |\n",
      "| time/                   |              |\n",
      "|    fps                  | 1257         |\n",
      "|    iterations           | 10           |\n",
      "|    time_elapsed         | 16           |\n",
      "|    total_timesteps      | 20480        |\n",
      "| train/                  |              |\n",
      "|    approx_kl            | 0.0035298045 |\n",
      "|    clip_fraction        | 0.0132       |\n",
      "|    clip_range           | 0.2          |\n",
      "|    entropy_loss         | -0.878       |\n",
      "|    explained_variance   | -0.0178      |\n",
      "|    learning_rate        | 0.0003       |\n",
      "|    loss                 | 50.7         |\n",
      "|    n_updates            | 140          |\n",
      "|    policy_gradient_loss | 0.000317     |\n",
      "|    value_loss           | 91.4         |\n",
      "------------------------------------------\n"
     ]
    },
    {
     "name": "stdout",
     "output_type": "stream",
     "text": [
      "------------------------------------------\n",
      "| rollout/                |              |\n",
      "|    ep_len_mean          | 60           |\n",
      "|    ep_rew_mean          | -19          |\n",
      "| time/                   |              |\n",
      "|    fps                  | 1250         |\n",
      "|    iterations           | 11           |\n",
      "|    time_elapsed         | 18           |\n",
      "|    total_timesteps      | 22528        |\n",
      "| train/                  |              |\n",
      "|    approx_kl            | 0.0032218872 |\n",
      "|    clip_fraction        | 0.0112       |\n",
      "|    clip_range           | 0.2          |\n",
      "|    entropy_loss         | -0.842       |\n",
      "|    explained_variance   | 0.00139      |\n",
      "|    learning_rate        | 0.0003       |\n",
      "|    loss                 | 49.7         |\n",
      "|    n_updates            | 150          |\n",
      "|    policy_gradient_loss | 0.000432     |\n",
      "|    value_loss           | 94.7         |\n",
      "------------------------------------------\n",
      "------------------------------------------\n",
      "| rollout/                |              |\n",
      "|    ep_len_mean          | 60           |\n",
      "|    ep_rew_mean          | -15.4        |\n",
      "| time/                   |              |\n",
      "|    fps                  | 1246         |\n",
      "|    iterations           | 12           |\n",
      "|    time_elapsed         | 19           |\n",
      "|    total_timesteps      | 24576        |\n",
      "| train/                  |              |\n",
      "|    approx_kl            | 0.0039284686 |\n",
      "|    clip_fraction        | 0.0361       |\n",
      "|    clip_range           | 0.2          |\n",
      "|    entropy_loss         | -0.866       |\n",
      "|    explained_variance   | 0.0093       |\n",
      "|    learning_rate        | 0.0003       |\n",
      "|    loss                 | 29.6         |\n",
      "|    n_updates            | 160          |\n",
      "|    policy_gradient_loss | -0.00342     |\n",
      "|    value_loss           | 67.2         |\n",
      "------------------------------------------\n",
      "------------------------------------------\n",
      "| rollout/                |              |\n",
      "|    ep_len_mean          | 60           |\n",
      "|    ep_rew_mean          | -21.9        |\n",
      "| time/                   |              |\n",
      "|    fps                  | 1238         |\n",
      "|    iterations           | 13           |\n",
      "|    time_elapsed         | 21           |\n",
      "|    total_timesteps      | 26624        |\n",
      "| train/                  |              |\n",
      "|    approx_kl            | 0.0060224077 |\n",
      "|    clip_fraction        | 0.0424       |\n",
      "|    clip_range           | 0.2          |\n",
      "|    entropy_loss         | -0.786       |\n",
      "|    explained_variance   | 0.00766      |\n",
      "|    learning_rate        | 0.0003       |\n",
      "|    loss                 | 46.7         |\n",
      "|    n_updates            | 170          |\n",
      "|    policy_gradient_loss | -0.00169     |\n",
      "|    value_loss           | 89.4         |\n",
      "------------------------------------------\n",
      "------------------------------------------\n",
      "| rollout/                |              |\n",
      "|    ep_len_mean          | 60           |\n",
      "|    ep_rew_mean          | -19.6        |\n",
      "| time/                   |              |\n",
      "|    fps                  | 1231         |\n",
      "|    iterations           | 14           |\n",
      "|    time_elapsed         | 23           |\n",
      "|    total_timesteps      | 28672        |\n",
      "| train/                  |              |\n",
      "|    approx_kl            | 0.0002328507 |\n",
      "|    clip_fraction        | 0.0172       |\n",
      "|    clip_range           | 0.2          |\n",
      "|    entropy_loss         | -0.749       |\n",
      "|    explained_variance   | 0.0156       |\n",
      "|    learning_rate        | 0.0003       |\n",
      "|    loss                 | 46.5         |\n",
      "|    n_updates            | 180          |\n",
      "|    policy_gradient_loss | -0.000211    |\n",
      "|    value_loss           | 85.3         |\n",
      "------------------------------------------\n",
      "-----------------------------------------\n",
      "| rollout/                |             |\n",
      "|    ep_len_mean          | 60          |\n",
      "|    ep_rew_mean          | -18.4       |\n",
      "| time/                   |             |\n",
      "|    fps                  | 1222        |\n",
      "|    iterations           | 15          |\n",
      "|    time_elapsed         | 25          |\n",
      "|    total_timesteps      | 30720       |\n",
      "| train/                  |             |\n",
      "|    approx_kl            | 0.004003533 |\n",
      "|    clip_fraction        | 0.0297      |\n",
      "|    clip_range           | 0.2         |\n",
      "|    entropy_loss         | -0.746      |\n",
      "|    explained_variance   | -0.0115     |\n",
      "|    learning_rate        | 0.0003      |\n",
      "|    loss                 | 42.7        |\n",
      "|    n_updates            | 190         |\n",
      "|    policy_gradient_loss | -0.00252    |\n",
      "|    value_loss           | 96.8        |\n",
      "-----------------------------------------\n",
      "------------------------------------------\n",
      "| rollout/                |              |\n",
      "|    ep_len_mean          | 60           |\n",
      "|    ep_rew_mean          | -8.82        |\n",
      "| time/                   |              |\n",
      "|    fps                  | 1224         |\n",
      "|    iterations           | 16           |\n",
      "|    time_elapsed         | 26           |\n",
      "|    total_timesteps      | 32768        |\n",
      "| train/                  |              |\n",
      "|    approx_kl            | 0.0037237625 |\n",
      "|    clip_fraction        | 0.0378       |\n",
      "|    clip_range           | 0.2          |\n",
      "|    entropy_loss         | -0.709       |\n",
      "|    explained_variance   | 0.00776      |\n",
      "|    learning_rate        | 0.0003       |\n",
      "|    loss                 | 56.9         |\n",
      "|    n_updates            | 200          |\n",
      "|    policy_gradient_loss | -0.00291     |\n",
      "|    value_loss           | 94.9         |\n",
      "------------------------------------------\n",
      "------------------------------------------\n",
      "| rollout/                |              |\n",
      "|    ep_len_mean          | 60           |\n",
      "|    ep_rew_mean          | -5.84        |\n",
      "| time/                   |              |\n",
      "|    fps                  | 1225         |\n",
      "|    iterations           | 17           |\n",
      "|    time_elapsed         | 28           |\n",
      "|    total_timesteps      | 34816        |\n",
      "| train/                  |              |\n",
      "|    approx_kl            | 0.0010254375 |\n",
      "|    clip_fraction        | 0.0317       |\n",
      "|    clip_range           | 0.2          |\n",
      "|    entropy_loss         | -0.638       |\n",
      "|    explained_variance   | 0.0348       |\n",
      "|    learning_rate        | 0.0003       |\n",
      "|    loss                 | 40.8         |\n",
      "|    n_updates            | 210          |\n",
      "|    policy_gradient_loss | -0.00182     |\n",
      "|    value_loss           | 94.1         |\n",
      "------------------------------------------\n",
      "------------------------------------------\n",
      "| rollout/                |              |\n",
      "|    ep_len_mean          | 60           |\n",
      "|    ep_rew_mean          | -8.34        |\n",
      "| time/                   |              |\n",
      "|    fps                  | 1225         |\n",
      "|    iterations           | 18           |\n",
      "|    time_elapsed         | 30           |\n",
      "|    total_timesteps      | 36864        |\n",
      "| train/                  |              |\n",
      "|    approx_kl            | 0.0027573179 |\n",
      "|    clip_fraction        | 0.0286       |\n",
      "|    clip_range           | 0.2          |\n",
      "|    entropy_loss         | -0.659       |\n",
      "|    explained_variance   | -0.00826     |\n",
      "|    learning_rate        | 0.0003       |\n",
      "|    loss                 | 50.1         |\n",
      "|    n_updates            | 220          |\n",
      "|    policy_gradient_loss | 0.000503     |\n",
      "|    value_loss           | 92.1         |\n",
      "------------------------------------------\n",
      "-----------------------------------------\n",
      "| rollout/                |             |\n",
      "|    ep_len_mean          | 60          |\n",
      "|    ep_rew_mean          | -9.74       |\n",
      "| time/                   |             |\n",
      "|    fps                  | 1226        |\n",
      "|    iterations           | 19          |\n",
      "|    time_elapsed         | 31          |\n",
      "|    total_timesteps      | 38912       |\n",
      "| train/                  |             |\n",
      "|    approx_kl            | 0.004011994 |\n",
      "|    clip_fraction        | 0.0565      |\n",
      "|    clip_range           | 0.2         |\n",
      "|    entropy_loss         | -0.666      |\n",
      "|    explained_variance   | -0.0255     |\n",
      "|    learning_rate        | 0.0003      |\n",
      "|    loss                 | 45.3        |\n",
      "|    n_updates            | 230         |\n",
      "|    policy_gradient_loss | 0.00205     |\n",
      "|    value_loss           | 96.6        |\n",
      "-----------------------------------------\n",
      "-----------------------------------------\n",
      "| rollout/                |             |\n",
      "|    ep_len_mean          | 60          |\n",
      "|    ep_rew_mean          | -9.64       |\n",
      "| time/                   |             |\n",
      "|    fps                  | 1227        |\n",
      "|    iterations           | 20          |\n",
      "|    time_elapsed         | 33          |\n",
      "|    total_timesteps      | 40960       |\n",
      "| train/                  |             |\n",
      "|    approx_kl            | 0.003287583 |\n",
      "|    clip_fraction        | 0.0366      |\n",
      "|    clip_range           | 0.2         |\n",
      "|    entropy_loss         | -0.663      |\n",
      "|    explained_variance   | 0.000439    |\n",
      "|    learning_rate        | 0.0003      |\n",
      "|    loss                 | 52          |\n",
      "|    n_updates            | 240         |\n",
      "|    policy_gradient_loss | -7.8e-05    |\n",
      "|    value_loss           | 97.9        |\n",
      "-----------------------------------------\n"
     ]
    },
    {
     "data": {
      "text/plain": [
       "<stable_baselines3.ppo.ppo.PPO at 0x1a9d5094f70>"
      ]
     },
     "execution_count": 34,
     "metadata": {},
     "output_type": "execute_result"
    }
   ],
   "source": [
    "model.learn(total_timesteps=40000)"
   ]
  },
  {
   "cell_type": "code",
   "execution_count": 36,
   "id": "c6cb4e8a",
   "metadata": {},
   "outputs": [
    {
     "name": "stderr",
     "output_type": "stream",
     "text": [
      "G:\\img_dect\\tfod1\\lib\\site-packages\\stable_baselines3\\common\\evaluation.py:65: UserWarning: Evaluation environment is not wrapped with a ``Monitor`` wrapper. This may result in reporting modified episode lengths and rewards, if other wrappers happen to modify these. Consider wrapping environment first with ``Monitor`` wrapper.\n",
      "  warnings.warn(\n"
     ]
    },
    {
     "data": {
      "text/plain": [
       "(-12.0, 58.787753826796276)"
      ]
     },
     "execution_count": 36,
     "metadata": {},
     "output_type": "execute_result"
    }
   ],
   "source": [
    "evaluate_policy(model,env,n_eval_episodes=10)"
   ]
  },
  {
   "cell_type": "code",
   "execution_count": null,
   "id": "4be93c1c",
   "metadata": {},
   "outputs": [],
   "source": []
  }
 ],
 "metadata": {
  "kernelspec": {
   "display_name": "tfod1",
   "language": "python",
   "name": "tfod1"
  },
  "language_info": {
   "codemirror_mode": {
    "name": "ipython",
    "version": 3
   },
   "file_extension": ".py",
   "mimetype": "text/x-python",
   "name": "python",
   "nbconvert_exporter": "python",
   "pygments_lexer": "ipython3",
   "version": "3.9.2"
  }
 },
 "nbformat": 4,
 "nbformat_minor": 5
}
